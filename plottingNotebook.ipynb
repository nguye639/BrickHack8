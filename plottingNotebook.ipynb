{
 "cells": [
  {
   "cell_type": "code",
   "execution_count": 1,
   "metadata": {},
   "outputs": [],
   "source": [
    "import numpy as np\n",
    "import matplotlib.pyplot as plt\n",
    "from IPython.display import display, clear_output\n",
    "import random\n",
    "import time  \n",
    "import os\n",
    "import imageio\n"
   ]
  },
  {
   "cell_type": "code",
   "execution_count": 2,
   "metadata": {},
   "outputs": [],
   "source": [
    "data = np.loadtxt(\"pandemic.csv\", dtype = str, delimiter = \",\")\n",
    "numInfected = np.loadtxt(\"count.csv\", dtype = str, delimiter = \",\")\n",
    "numInfected = np.array(numInfected , dtype = int)"
   ]
  },
  {
   "cell_type": "code",
   "execution_count": 3,
   "metadata": {},
   "outputs": [],
   "source": [
    "allAgents = []\n",
    "n = 1000\n",
    "for i in range(0,int(len(data)/n)):\n",
    "    allAgents.append(data[i*n:(i+1)*n])\n",
    "    "
   ]
  },
  {
   "cell_type": "code",
   "execution_count": 4,
   "metadata": {},
   "outputs": [],
   "source": [
    "xs = []\n",
    "ys = []\n",
    "infecteds = []\n",
    "for step in allAgents:\n",
    "    try:\n",
    "      x = []\n",
    "      y = []\n",
    "      infected = []\n",
    "\n",
    "      for agent in step:\n",
    "        x.append(float(agent[0]))\n",
    "        y.append(float(agent[1]))\n",
    "        if agent[2] == \"false\":\n",
    "            infected.append(False)\n",
    "        else:\n",
    "            infected.append(True)\n",
    "      xs.append(x)\n",
    "      ys.append(y)\n",
    "      infecteds.append(infected)\n",
    "    except:\n",
    "        pass\n"
   ]
  },
  {
   "cell_type": "code",
   "execution_count": 5,
   "metadata": {},
   "outputs": [
    {
     "data": {
      "text/plain": [
       "[<matplotlib.lines.Line2D at 0x7fc34e3befa0>]"
      ]
     },
     "execution_count": 5,
     "metadata": {},
     "output_type": "execute_result"
    },
    {
     "data": {
      "image/png": "[encoded data removed]",
      "text/plain": [
       "<Figure size 432x288 with 1 Axes>"
      ]
     },
     "metadata": {
      "needs_background": "light"
     },
     "output_type": "display_data"
    }
   ],
   "source": [
    "t = np.arange(0,len(numInfected),1)\n",
    "plt.plot(t,numInfected)"
   ]
  },
  {
   "cell_type": "code",
   "execution_count": null,
   "metadata": {},
   "outputs": [],
   "source": [
    "!mkdir frames\n",
    "filenames = []\n",
    "fig, ax = plt.subplots(figsize=(12,6))\n",
    "\n",
    "for i in range(0,len(allAgents),1):\n",
    "    fig.suptitle(\"0% Masked, 0% Vaccined\")\n",
    "    plt.subplot(1,2,1)\n",
    "    plt.scatter(xs[i],ys[i],s = 8,c = infecteds[i], cmap = \"RdYlGn_r\")\n",
    "    plt.xlim(-1000,3000)\n",
    "    plt.ylim(-1000,3000)\n",
    "    plt.subplot(1,2,2)\n",
    "    t = np.arange(0,i,1)\n",
    "    plt.plot(t,numInfected[0:i])\n",
    "    plt.ylabel(\"Number Infected\")\n",
    "    plt.xlabel(\"Time\")\n",
    "    plt.tight_layout()\n",
    "    ## Animation part (doesn't change)\n",
    "    clear_output(wait=True) # Clear output for dynamic display\n",
    "    display(fig)            # Reset display\n",
    "    plt.savefig(\"frames/\"+f'{i}.png')\n",
    "    filenames.append(f'{i}.png')\n",
    "    fig.clear()             # Prevent overlapping and layered plots\n",
    "    # Sleep for half a second to slow down the animation\n",
    "plt.show()"
   ]
  },
  {
   "cell_type": "markdown",
   "metadata": {},
   "source": [
    "# build gif\n",
    "with imageio.get_writer('MaskVaccine.gif', mode='I') as writer:\n",
    "    for filename in filenames:\n",
    "        image = imageio.imread(\"frames/\" + filename)\n",
    "        writer.append_data(image)\n",
    "        "
   ]
  }
 ],
 "metadata": {
  "kernelspec": {
   "display_name": "Python 3 (ipykernel)",
   "language": "python",
   "name": "python3"
  },
  "language_info": {
   "codemirror_mode": {
    "name": "ipython",
    "version": 3
   },
   "file_extension": ".py",
   "mimetype": "text/x-python",
   "name": "python",
   "nbconvert_exporter": "python",
   "pygments_lexer": "ipython3",
   "version": "3.9.7"
  }
 },
 "nbformat": 4,
 "nbformat_minor": 2
}
